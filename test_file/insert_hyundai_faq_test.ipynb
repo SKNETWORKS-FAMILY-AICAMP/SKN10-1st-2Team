{
 "cells": [
  {
   "cell_type": "code",
   "execution_count": 16,
   "metadata": {},
   "outputs": [],
   "source": [
    "import requests\n",
    "import pandas as pd\n",
    "from selenium import webdriver\n",
    "from selenium.webdriver.common.by import By\n",
    "import time\n",
    "\n",
    "url = \"https://www.hyundai.com/kr/ko/e/customer/center/faq\""
   ]
  },
  {
   "cell_type": "code",
   "execution_count": 21,
   "metadata": {},
   "outputs": [
    {
     "name": "stdout",
     "output_type": "stream",
     "text": [
      "Index 1: 보유중인 자동차를 팔고 싶은데, 어떻게 하면 좋을까요?\n",
      "Index 2: 포인트는 어떻게 활용하나요?\n",
      "Index 3: 폐차 의뢰 및 신청은 어떻게 하나요?\n",
      "Index 4: 차량구입시 신용카드는 얼마까지 이용할 수 있나요?\n",
      "Index 5: 차량구입시 신용카드는 복수의 카드로 결제가 가능한가요?\n",
      "Index 6: 세이브오토 이용에 관해 알고 싶습니다.\n",
      "Index 7: 차량에 부과되는 세금은 어떤 종류가 있나요?\n",
      "Index 8: 신차 구매 시 타던 차량을 반납하면 신차 할인 받을 수 있나요?\n",
      "Index 9: 차량구입시 의무보험료란 금액을 납부하였습니다. 이것은 어떤 종류의 보험인가요?\n",
      "Index 10: 현대자동차 차량을 구입하려면 어떻게 해야하나요?\n"
     ]
    }
   ],
   "source": [
    "question_list = []\n",
    "answer_list = []\n",
    "# ChromeDriver 실행 \n",
    "driver = webdriver.Chrome()  # ChromeDriver 경로 지정\n",
    "driver.get(url)  # 웹사이트 열기\n",
    "\n",
    "# 대기 후 종료\n",
    "time.sleep(7)\n",
    "# 모든 질문 요소 찾기\n",
    "faq_questions = driver.find_elements(By.CLASS_NAME, \"list-content\")\n",
    "\n",
    "# 질문 클릭 및 답변 추출\n",
    "for idx, question in enumerate(faq_questions, 1):\n",
    "    actions = webdriver.ActionChains(driver).move_to_element(question)\n",
    "    actions.perform()\n",
    "    question.click()\n",
    "    print(f\"Index {idx}: {question.text}\")  # 각 요소 확인\n",
    "    # 현대 faq 페이지는 기아 faq 페이지와 달리 다음 질문을 클릭하면 이전 질문 토글이 hidden되므로\n",
    "    # 질문을 누를때마다 답변을 저장해야 된다!\n",
    "    answer = driver.find_element(By.CLASS_NAME, \"conts\")\n",
    "    answer_list.append(answer.text.strip())\n",
    "    question_list.append(question.text)\n",
    "    time.sleep(2)\n",
    "\n",
    "time.sleep(7)\n",
    "driver.quit()  # 브라우저 닫기\n"
   ]
  },
  {
   "cell_type": "code",
   "execution_count": 22,
   "metadata": {},
   "outputs": [
    {
     "data": {
      "text/plain": [
       "['현대 인증중고차 (certified.hyundai.com) 의 내차팔기 서비스를 통해 판매할 수 있습니다.\\n자세한 사항은 현대 인증중고차 사이트에서 확인해 주세요.\\n현대 인증중고차 사이트 바로가기▶',\n",
       " '포인트는 블루멤버스 사이트 내에서 현금 처럼 사용 하실 수 있으며, 고객님께서 블루핸즈 서비스를 받으실 때도 현금처럼 지불 하실 수 있습니다',\n",
       " \"서비스/멤버십 > 내차 항목의 '친환경 폐차 신청'으로 들어가셔서 신청하시는 것이 가장 신속하고 정확합니다. 인터넷 신청이 불편하시면 유선전화 (1544-2738)로 문의하셔서 폐차 신청을 할 수 있습니다.\",\n",
       " '▶ 자동차 구입시 신용카드를 이용한 결제는 고객님 신용카드 한도내에서 희망하시는 금액\\n     까지 자유로이 결제가 가능합니다.',\n",
       " '▶ 예, 가능합니다. 신용카드 갯수에 제한없이 결제가 가능합니다.',\n",
       " '▶ 현대자동차 신차 구입 시 Hyundai Mobility카드를 이용하는 경우\\n차량구매 대금 중 일부를 해당 포인트(20만/30만/50만)만큼 先할인해 드립니다\\n\\n先할인 받으신 금액은 이후 36개월 동안 고객님의 Hyundai Mobility카드 사용실적에 따라 적립되는\\n포인트로 상환하시게 되며, 미상환하신 경우 익월 카드대금 청구 시 전액 청구됩니다.\\n\\n블루 세이브-오토 프로그램은 적용을 원하시는 고객께서 신청하시는 경우에만 적용되고\\n이용기간 중 미상환하신 포인트에 대한 대금청구 시 이자는 부과되지 않습니다.',\n",
       " '▶ 현행 자동차관련 세금항목은 다음과 같습니다.\\n\\n① 구입단계 : 개별소비세(8인승 이하 승용차限), 교육세(개소세의 30%), 부가가치세\\n② 등록단계 : 등록세,취득세\\n③ 소유단계 : 자동차세(연단위 부여)\\n④ 유류관련 : 교통세, 주행세, 교육세, 부가가치세\\n⑤ 기타 : 공채매입, 환경개선비용부담금(해당자동차限)',\n",
       " '현대 인증중고차의 내차팔기 서비스와 연계하여 신차 할인과 중고차 추가 보상 혜택을 받을 수 있습니다.\\n자세한 사항은 [이벤트> 진행중 이벤트]를 통해 확인해 주세요.',\n",
       " '의무보험은 차량이 출고센터를 동해 출고되어 임시운행기간동안에만 유효한 보험입니다.\\n\\n이는 임시운행 기간중 발생되는 교통사고 피해자의 피해배상 보장을 위한 자동차 손해배상\\n보장법 개정으로 임시운행허가 차량의 의무보험 가입이 법제화 되었습니다.\\n\\n보상책임기간은 출고일부터 임시운행허가 기간인 10일(기간 만료일 24시까지)동안이고\\n보험료는 차종별 정액보험료가 적용됩니다. (대부분의 경우 1만원 이내)\\n\\n따라서 차량을 구입하신 고객께서는 임시운행허가기간 종료 이전에 1년만기 책임보험,\\n혹은 종합보험에 반드시 가입하셔야 합니다.\\n\\n의무보험은 1회 소멸성 보험으로 임시운행증을 반납하거나 다른 책임보험에\\n가입하시는 경우 자동으로 해지가 됩니다.',\n",
       " '현대자동차에서는 전국 정식 지점/대리점을 통해서만 차량을 판매하고 있습니다.\\n그 이외의 유통경로(인터넷 등)로는 차량 공급이 되지 않사오니 차량 구입시 주의해주시기\\n바라며 전국 어느곳에서나 같은 제품,같은 가격으로 바른거래를 실천하고 있습니다.\\n\\n참고로, 현대자동차 홈페이지 구매상담 신청을 이용시\\n고객님께서 원하시는 지점,대리점을 선택하여 상담신청을 하시면 현대자동차의 전문영업사원이\\n신속하고 친절하게 차량구매에 관한 모든 궁금증을 해결해 드리겠습니다.']"
      ]
     },
     "execution_count": 22,
     "metadata": {},
     "output_type": "execute_result"
    }
   ],
   "source": [
    "answer_list"
   ]
  }
 ],
 "metadata": {
  "kernelspec": {
   "display_name": ".venv",
   "language": "python",
   "name": "python3"
  },
  "language_info": {
   "codemirror_mode": {
    "name": "ipython",
    "version": 3
   },
   "file_extension": ".py",
   "mimetype": "text/x-python",
   "name": "python",
   "nbconvert_exporter": "python",
   "pygments_lexer": "ipython3",
   "version": "3.13.1"
  }
 },
 "nbformat": 4,
 "nbformat_minor": 2
}
