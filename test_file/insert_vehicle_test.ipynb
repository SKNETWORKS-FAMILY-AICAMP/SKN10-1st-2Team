{
 "cells": [
  {
   "cell_type": "code",
   "execution_count": 5,
   "metadata": {},
   "outputs": [],
   "source": [
    "import pymysql\n",
    "import pandas as pd\n",
    "import streamlit as st\n",
    "import openpyxl\n",
    "#DB 연결 user, password, db 변경할것\n",
    "conn = pymysql.connect( \n",
    "    host = 'localhost',\n",
    "    user = 'car',\n",
    "    password = 'test1234',\n",
    "    database = 'vehicle'\n",
    ")"
   ]
  },
  {
   "cell_type": "code",
   "execution_count": null,
   "metadata": {},
   "outputs": [
    {
     "name": "stderr",
     "output_type": "stream",
     "text": [
      "c:\\dev\\github\\SKN10-1st-2Team\\.venv\\Lib\\site-packages\\openpyxl\\styles\\stylesheet.py:237: UserWarning: Workbook contains no default style, apply openpyxl's default\n",
      "  warn(\"Workbook contains no default style, apply openpyxl's default\")\n"
     ]
    }
   ],
   "source": [
    "cur = conn.cursor()\n",
    "file_name = r'C:/Users/tnstn/Downloads/자동차등록현황보고_자동차등록대수현황 시도별 (201101 ~ 202412).xlsx'\n",
    "# openpyxl 엔진을 명시적으로 지정하여 엑셀 파일 읽기\n",
    "df = pd.read_excel(file_name, header=[0, 1],skiprows=4)\n",
    "commit_interval = 1000\n",
    "for i in range(len(df)) :\n",
    "    try :\n",
    "        row = list(df.loc[i])\n",
    "        # 추출할 열 이름 (뒤에서 1번째, 5번째, 9번째, 13번째, 17번째)\n",
    "        indices = [-1, -5, -9, -13, -17]\n",
    "        extracted = [row[col] for col in indices]\n",
    "\n",
    "        # 결측치 및 데이터 변환 처리\n",
    "        data = []\n",
    "        for val in extracted:\n",
    "            if pd.notnull(val):\n",
    "                # 숫자형 문자열을 정수로 변환\n",
    "                data.append(int(str(val).replace(',', '')))\n",
    "            else:\n",
    "                # 결측치일 경우 기본값 0으로 처리\n",
    "                data.append(0)\n",
    "\n",
    "        data += [row[2],row[1],row[0]]\n",
    "\n",
    "        sql = f\"\"\"insert vehicle_registration (total_count,special_count,truck_count\n",
    "        ,van_count,sedan_count,city,state,registration_date)\n",
    "        values ({data[0]},{data[1]},{data[2]},{data[3]},{data[4]},'{data[5]}','{data[6]}','{data[7]}')\"\"\"\n",
    "        cur.execute(sql)  # sql문 실행\n",
    "        if i % commit_interval == 0:\n",
    "            conn.commit()  # 1000번마다 커밋\n",
    "    except Exception as e:\n",
    "        print(f\"Error at row {i}: {e}\")\n",
    "        conn.rollback()  # 예외 발생 시 롤백\n",
    "        \n",
    "# 트랜잭션 커밋\n",
    "conn.commit()\n",
    "\n",
    "# 연결 종료\n",
    "cur.close()\n",
    "conn.close()"
   ]
  },
  {
   "cell_type": "code",
   "execution_count": null,
   "metadata": {},
   "outputs": [],
   "source": []
  }
 ],
 "metadata": {
  "kernelspec": {
   "display_name": ".venv",
   "language": "python",
   "name": "python3"
  },
  "language_info": {
   "codemirror_mode": {
    "name": "ipython",
    "version": 3
   },
   "file_extension": ".py",
   "mimetype": "text/x-python",
   "name": "python",
   "nbconvert_exporter": "python",
   "pygments_lexer": "ipython3",
   "version": "3.13.1"
  }
 },
 "nbformat": 4,
 "nbformat_minor": 2
}
